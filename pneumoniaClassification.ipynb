{
 "cells": [
  {
   "cell_type": "markdown",
   "id": "5d0829cf",
   "metadata": {},
   "source": [
    "# Covid-19 and Pneumonia Classification with Deep Learning"
   ]
  },
  {
   "cell_type": "markdown",
   "id": "acee5e5e",
   "metadata": {},
   "source": [
    "You are a researcher in a hospital lab and are given the task to develop a learning model that supports doctors with diagnosing illnesses that affect patients’ lungs. At your disposal, you have a set X-ray lung scans with examples of patients who had either pneumonia, Covid-19, or no illness. Using the Keras module, you will create a classification model that outputs a diagnosis based on a patient’s X-ray scan. You hope this model can help doctors with the challenge of deciphering X-ray scans and open a dialogue between your research team and the medical staff to create learning models that are as effective and interpretable as possible.\n"
   ]
  },
  {
   "cell_type": "markdown",
   "id": "2df5de23",
   "metadata": {},
   "source": [
    "Load in your image data and get it ready for the journey through a neural network. One possible way to do this is to use an ImageGenerator object; however, feel free to try other methods you may have experienced before this project.\n",
    "When creating the object, remember that neural networks struggle with large integer values. Think about how you might want to get your image data ready for your neural network and get the best results.\n",
    "\n",
    "\n",
    "You will want to create two different iterable objects from this ImageDataGenerator: a train set and a test/validation set.\n",
    "When you are creating these sets of images consider the following:\n",
    "The directory the images come from\n",
    "The types of images you are working with\n",
    "The target size of the images\n",
    "Click the hint below if you need any other guidance."
   ]
  },
  {
   "cell_type": "code",
   "execution_count": 1,
   "id": "d0a71e77",
   "metadata": {},
   "outputs": [],
   "source": [
    "import tensorflow as tf\n",
    "from tensorflow import keras\n",
    "from tensorflow.keras.models import Sequential\n",
    "from tensorflow.keras.preprocessing.image import ImageDataGenerator\n",
    "\n",
    "from tensorflow.keras.callbacks import EarlyStopping\n",
    "from tensorflow.keras import layers\n",
    "\n",
    "import matplotlib.pyplot as plt"
   ]
  },
  {
   "cell_type": "code",
   "execution_count": 4,
   "id": "a3fe2971",
   "metadata": {},
   "outputs": [
    {
     "name": "stdout",
     "output_type": "stream",
     "text": [
      "Found 251 images belonging to 3 classes.\n",
      "Found 66 images belonging to 3 classes.\n"
     ]
    }
   ],
   "source": [
    "data_generator = ImageDataGenerator(rescale=1.0/255, zoom_range=0.1, rotation_range=25, width_shift_range=0.05, height_shift_range=0.05)\n",
    "batch = 4\n",
    "training_iterator = data_generator.flow_from_directory('augmented-data/train',batch_size = batch,color_mode='grayscale', class_mode='sparse')\n",
    "\n",
    "validation_iterator = data_generator.flow_from_directory('augmented-data/test',batch_size = batch,color_mode='grayscale', class_mode='sparse')\n",
    "model = Sequential()"
   ]
  },
  {
   "cell_type": "markdown",
   "id": "65357abb",
   "metadata": {},
   "source": [
    "Now that your image data is loaded and ready for analysis, create a classification neural network model to perform on the medical data.\n",
    "With image data, there are a ton of directions to go in. To get you grounded, we recommend you start by creating your input layer and output layer and compile it before diving into creating a more complex model.\n",
    "When starting your neural network, consider the following:\n",
    "\n",
    "The shape of your input\n",
    "The shape of your output\n",
    "Using any activation functions for your output\n",
    "Your gradient descent optimizer\n",
    "Your learning rate\n",
    "Your loss functions and metrics\n",
    "Flattening the image data before the output layer"
   ]
  },
  {
   "cell_type": "code",
   "execution_count": 9,
   "id": "049026b4",
   "metadata": {},
   "outputs": [
    {
     "name": "stdout",
     "output_type": "stream",
     "text": [
      "WARNING:tensorflow:Please add `keras.layers.InputLayer` instead of `keras.Input` to Sequential model. `keras.Input` is intended to be used by Functional model.\n",
      "Model: \"sequential_5\"\n",
      "_________________________________________________________________\n",
      "Layer (type)                 Output Shape              Param #   \n",
      "=================================================================\n",
      "conv2d_4 (Conv2D)            (None, 254, 254, 4)       40        \n",
      "_________________________________________________________________\n",
      "max_pooling2d_4 (MaxPooling2 (None, 84, 84, 4)         0         \n",
      "_________________________________________________________________\n",
      "conv2d_5 (Conv2D)            (None, 82, 82, 4)         148       \n",
      "_________________________________________________________________\n",
      "max_pooling2d_5 (MaxPooling2 (None, 27, 27, 4)         0         \n",
      "_________________________________________________________________\n",
      "flatten_2 (Flatten)          (None, 2916)              0         \n",
      "_________________________________________________________________\n",
      "dense_4 (Dense)              (None, 16)                46672     \n",
      "_________________________________________________________________\n",
      "dense_5 (Dense)              (None, 3)                 51        \n",
      "=================================================================\n",
      "Total params: 46,911\n",
      "Trainable params: 46,911\n",
      "Non-trainable params: 0\n",
      "_________________________________________________________________\n",
      "None\n"
     ]
    }
   ],
   "source": [
    "model = Sequential()\n",
    "model.add(layers.Input(shape=training_iterator.image_shape))\n",
    "model.add(layers.Conv2D(4, 3, activation='relu'))\n",
    "model.add(layers.MaxPooling2D(pool_size=(3,3), strides=3))\n",
    "model.add(layers.Conv2D(4, 3, activation='relu'))\n",
    "model.add(layers.MaxPooling2D(pool_size=(3,3), strides=3))\n",
    "model.add(layers.Flatten())\n",
    "model.add(layers.Dense(16, activation='relu'))\n",
    "model.add(layers.Dense(3,activation='softmax'))\n",
    "model.compile(loss='sparse_categorical_crossentropy', optimizer=keras.optimizers.Adam(learning_rate=0.01), metrics=['accuracy'])\n",
    "print(model.summary())\n",
    "es = EarlyStopping(monitor='accuracy', patience=3)"
   ]
  },
  {
   "cell_type": "markdown",
   "id": "4fbcf1bf",
   "metadata": {},
   "source": [
    "It’s time to test out the model you created!\n",
    "\n",
    "Fit your model with your training set and test it out with your validation/test set.\n",
    "\n",
    "Since you have not added many layers yet or played around with hyperparameters, it may not be very accurate yet. Do not fret! Your next adventure will be to play with your model and mold it until you see more ideal results."
   ]
  },
  {
   "cell_type": "code",
   "execution_count": 10,
   "id": "0d9a009d",
   "metadata": {},
   "outputs": [
    {
     "name": "stdout",
     "output_type": "stream",
     "text": [
      "Epoch 1/64\n",
      "16/16 [==============================] - 6s 217ms/step - loss: 1.1159 - accuracy: 0.4688 - val_loss: 1.0710 - val_accuracy: 0.2969\n",
      "Epoch 2/64\n",
      "16/16 [==============================] - 2s 152ms/step - loss: 1.0431 - accuracy: 0.4531 - val_loss: 0.9726 - val_accuracy: 0.4531\n",
      "Epoch 3/64\n",
      "16/16 [==============================] - 2s 143ms/step - loss: 0.7922 - accuracy: 0.6875 - val_loss: 1.2198 - val_accuracy: 0.5938\n",
      "Epoch 4/64\n",
      "16/16 [==============================] - 2s 146ms/step - loss: 0.9033 - accuracy: 0.6562 - val_loss: 0.7725 - val_accuracy: 0.6562\n",
      "Epoch 5/64\n",
      "16/16 [==============================] - 2s 134ms/step - loss: 0.6635 - accuracy: 0.7812 - val_loss: 0.7341 - val_accuracy: 0.7344\n",
      "Epoch 6/64\n",
      "16/16 [==============================] - 2s 135ms/step - loss: 0.8717 - accuracy: 0.6406 - val_loss: 0.5431 - val_accuracy: 0.8281\n",
      "Epoch 7/64\n",
      "16/16 [==============================] - 2s 137ms/step - loss: 0.7039 - accuracy: 0.7344 - val_loss: 0.6363 - val_accuracy: 0.7188\n",
      "Epoch 8/64\n",
      "16/16 [==============================] - 2s 117ms/step - loss: 0.5744 - accuracy: 0.7344 - val_loss: 0.5868 - val_accuracy: 0.7188\n"
     ]
    },
    {
     "data": {
      "text/plain": [
       "<tensorflow.python.keras.callbacks.History at 0x2ba5a2e0a60>"
      ]
     },
     "execution_count": 10,
     "metadata": {},
     "output_type": "execute_result"
    }
   ],
   "source": [
    "model.fit(training_iterator, steps_per_epoch=16, epochs=64, validation_data=validation_iterator, validation_steps=16, callbacks=[es])"
   ]
  },
  {
   "cell_type": "markdown",
   "id": "0acc5f97",
   "metadata": {},
   "source": [
    "Plot the cross-entropy loss for both the train and validation data over each epoch using the Matplotlib Library. You can also plot the AUC metric for both your train and validation data as well. This will give you an insight into how the model performs better over time and can also help you figure out better ways to tune your hyperparameters.\n",
    "\n",
    "Because of the way Matplotlib plots are displayed in the learning environment, please use fig.savefig('static/images/my_plots.png') at the end of your graphing code to render the plot in the browser. If you wish to display multiple plots, you can use .subplot() or .add_subplot() methods in the Matplotlib library to depict multiple plots in one figure.\n",
    "\n",
    "\n",
    "Another potential extension to this project would be implementing a classification report and a confusion matrix. These are not tools we have introduced you to; however, if you would like further resources to improve your neural network, we recommend looking into these concepts.\n",
    "As a brief introduction, these concepts evaluate the nature of false positives and false negatives in your neural network taking steps beyond simple evaluation metrics like accuracy.\n",
    "\n",
    "In the hint below, you will see a possible solution to calculate a classification_report and a confusion_matrix, but you will need to do some personal googling/exploring to acquaint yourself with these metrics and understand the outputs."
   ]
  },
  {
   "cell_type": "code",
   "execution_count": 11,
   "id": "2729798a",
   "metadata": {},
   "outputs": [
    {
     "name": "stdout",
     "output_type": "stream",
     "text": [
      "Epoch 1/64\n",
      "16/16 [==============================] - 2s 135ms/step - loss: 0.4734 - accuracy: 0.8281 - val_loss: 0.6351 - val_accuracy: 0.6875\n",
      "Epoch 2/64\n",
      "16/16 [==============================] - 2s 119ms/step - loss: 0.3334 - accuracy: 0.8906 - val_loss: 0.5300 - val_accuracy: 0.7656\n",
      "Epoch 3/64\n",
      "16/16 [==============================] - 2s 116ms/step - loss: 0.3400 - accuracy: 0.8281 - val_loss: 0.6339 - val_accuracy: 0.7969\n",
      "Epoch 4/64\n",
      "16/16 [==============================] - 2s 119ms/step - loss: 0.3850 - accuracy: 0.8571 - val_loss: 0.4158 - val_accuracy: 0.8125\n",
      "Epoch 5/64\n",
      "16/16 [==============================] - 2s 128ms/step - loss: 0.5161 - accuracy: 0.7812 - val_loss: 0.4240 - val_accuracy: 0.8281oss: 0.5161 - accuracy: 0.78\n"
     ]
    },
    {
     "data": {
      "image/png": "[encoded data removed]",
      "text/plain": [
       "<Figure size 432x288 with 2 Axes>"
      ]
     },
     "metadata": {
      "needs_background": "light"
     },
     "output_type": "display_data"
    }
   ],
   "source": [
    "history = model.fit(training_iterator, steps_per_epoch=16, epochs=64, validation_data=validation_iterator, validation_steps=16, callbacks=[es])\n",
    "fig = plt.figure()\n",
    "ax1 = fig.add_subplot(2, 1, 1)\n",
    "ax1.plot(history.history['accuracy'])\n",
    "ax1.plot(history.history['val_accuracy'])\n",
    "ax1.set_title('model accuracy')\n",
    "ax1.set_xlabel('epoch')\n",
    "ax1.set_ylabel('accuracy')\n",
    "ax1.legend(['train', 'validation'], loc='upper left')\n",
    " \n",
    "# plotting auc and validation auc over epochs\n",
    "ax2 = fig.add_subplot(2, 1, 2)\n",
    "ax2.plot(history.history['loss'])\n",
    "ax2.plot(history.history['accuracy'])\n",
    "ax2.set_title('model auc')\n",
    "ax2.set_xlabel('epoch')\n",
    "ax2.set_ylabel('accuracy')\n",
    "ax2.legend(['train', 'validation'], loc='upper left')\n",
    " \n",
    "# used to keep plots from overlapping\n",
    "fig.tight_layout()\n",
    " \n",
    "fig.savefig('static/images/my_plots.png')"
   ]
  },
  {
   "cell_type": "code",
   "execution_count": null,
   "id": "edae3dfd",
   "metadata": {},
   "outputs": [],
   "source": []
  }
 ],
 "metadata": {
  "kernelspec": {
   "display_name": "Python 3 (ipykernel)",
   "language": "python",
   "name": "python3"
  },
  "language_info": {
   "codemirror_mode": {
    "name": "ipython",
    "version": 3
   },
   "file_extension": ".py",
   "mimetype": "text/x-python",
   "name": "python",
   "nbconvert_exporter": "python",
   "pygments_lexer": "ipython3",
   "version": "3.9.6"
  }
 },
 "nbformat": 4,
 "nbformat_minor": 5
}
